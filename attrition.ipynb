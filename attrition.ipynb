{
  "cells": [
    {
      "cell_type": "markdown",
      "metadata": {
        "id": "alIIEHibGc3M"
      },
      "source": [
        "## Part 1: Preprocessing"
      ]
    },
    {
      "cell_type": "code",
      "execution_count": 2,
      "metadata": {
        "colab": {
          "base_uri": "https://localhost:8080/",
          "height": 325
        },
        "id": "6eDUJ4NtGc3P",
        "outputId": "2480098c-135c-4cbf-9552-018494ee8ff5"
      },
      "outputs": [
        {
          "data": {
            "text/html": [
              "<div>\n",
              "<style scoped>\n",
              "    .dataframe tbody tr th:only-of-type {\n",
              "        vertical-align: middle;\n",
              "    }\n",
              "\n",
              "    .dataframe tbody tr th {\n",
              "        vertical-align: top;\n",
              "    }\n",
              "\n",
              "    .dataframe thead th {\n",
              "        text-align: right;\n",
              "    }\n",
              "</style>\n",
              "<table border=\"1\" class=\"dataframe\">\n",
              "  <thead>\n",
              "    <tr style=\"text-align: right;\">\n",
              "      <th></th>\n",
              "      <th>Age</th>\n",
              "      <th>Attrition</th>\n",
              "      <th>BusinessTravel</th>\n",
              "      <th>Department</th>\n",
              "      <th>DistanceFromHome</th>\n",
              "      <th>Education</th>\n",
              "      <th>EducationField</th>\n",
              "      <th>EnvironmentSatisfaction</th>\n",
              "      <th>HourlyRate</th>\n",
              "      <th>JobInvolvement</th>\n",
              "      <th>...</th>\n",
              "      <th>PerformanceRating</th>\n",
              "      <th>RelationshipSatisfaction</th>\n",
              "      <th>StockOptionLevel</th>\n",
              "      <th>TotalWorkingYears</th>\n",
              "      <th>TrainingTimesLastYear</th>\n",
              "      <th>WorkLifeBalance</th>\n",
              "      <th>YearsAtCompany</th>\n",
              "      <th>YearsInCurrentRole</th>\n",
              "      <th>YearsSinceLastPromotion</th>\n",
              "      <th>YearsWithCurrManager</th>\n",
              "    </tr>\n",
              "  </thead>\n",
              "  <tbody>\n",
              "    <tr>\n",
              "      <th>0</th>\n",
              "      <td>41</td>\n",
              "      <td>Yes</td>\n",
              "      <td>Travel_Rarely</td>\n",
              "      <td>Sales</td>\n",
              "      <td>1</td>\n",
              "      <td>2</td>\n",
              "      <td>Life Sciences</td>\n",
              "      <td>2</td>\n",
              "      <td>94</td>\n",
              "      <td>3</td>\n",
              "      <td>...</td>\n",
              "      <td>3</td>\n",
              "      <td>1</td>\n",
              "      <td>0</td>\n",
              "      <td>8</td>\n",
              "      <td>0</td>\n",
              "      <td>1</td>\n",
              "      <td>6</td>\n",
              "      <td>4</td>\n",
              "      <td>0</td>\n",
              "      <td>5</td>\n",
              "    </tr>\n",
              "    <tr>\n",
              "      <th>1</th>\n",
              "      <td>49</td>\n",
              "      <td>No</td>\n",
              "      <td>Travel_Frequently</td>\n",
              "      <td>Research &amp; Development</td>\n",
              "      <td>8</td>\n",
              "      <td>1</td>\n",
              "      <td>Life Sciences</td>\n",
              "      <td>3</td>\n",
              "      <td>61</td>\n",
              "      <td>2</td>\n",
              "      <td>...</td>\n",
              "      <td>4</td>\n",
              "      <td>4</td>\n",
              "      <td>1</td>\n",
              "      <td>10</td>\n",
              "      <td>3</td>\n",
              "      <td>3</td>\n",
              "      <td>10</td>\n",
              "      <td>7</td>\n",
              "      <td>1</td>\n",
              "      <td>7</td>\n",
              "    </tr>\n",
              "    <tr>\n",
              "      <th>2</th>\n",
              "      <td>37</td>\n",
              "      <td>Yes</td>\n",
              "      <td>Travel_Rarely</td>\n",
              "      <td>Research &amp; Development</td>\n",
              "      <td>2</td>\n",
              "      <td>2</td>\n",
              "      <td>Other</td>\n",
              "      <td>4</td>\n",
              "      <td>92</td>\n",
              "      <td>2</td>\n",
              "      <td>...</td>\n",
              "      <td>3</td>\n",
              "      <td>2</td>\n",
              "      <td>0</td>\n",
              "      <td>7</td>\n",
              "      <td>3</td>\n",
              "      <td>3</td>\n",
              "      <td>0</td>\n",
              "      <td>0</td>\n",
              "      <td>0</td>\n",
              "      <td>0</td>\n",
              "    </tr>\n",
              "    <tr>\n",
              "      <th>3</th>\n",
              "      <td>33</td>\n",
              "      <td>No</td>\n",
              "      <td>Travel_Frequently</td>\n",
              "      <td>Research &amp; Development</td>\n",
              "      <td>3</td>\n",
              "      <td>4</td>\n",
              "      <td>Life Sciences</td>\n",
              "      <td>4</td>\n",
              "      <td>56</td>\n",
              "      <td>3</td>\n",
              "      <td>...</td>\n",
              "      <td>3</td>\n",
              "      <td>3</td>\n",
              "      <td>0</td>\n",
              "      <td>8</td>\n",
              "      <td>3</td>\n",
              "      <td>3</td>\n",
              "      <td>8</td>\n",
              "      <td>7</td>\n",
              "      <td>3</td>\n",
              "      <td>0</td>\n",
              "    </tr>\n",
              "    <tr>\n",
              "      <th>4</th>\n",
              "      <td>27</td>\n",
              "      <td>No</td>\n",
              "      <td>Travel_Rarely</td>\n",
              "      <td>Research &amp; Development</td>\n",
              "      <td>2</td>\n",
              "      <td>1</td>\n",
              "      <td>Medical</td>\n",
              "      <td>1</td>\n",
              "      <td>40</td>\n",
              "      <td>3</td>\n",
              "      <td>...</td>\n",
              "      <td>3</td>\n",
              "      <td>4</td>\n",
              "      <td>1</td>\n",
              "      <td>6</td>\n",
              "      <td>3</td>\n",
              "      <td>3</td>\n",
              "      <td>2</td>\n",
              "      <td>2</td>\n",
              "      <td>2</td>\n",
              "      <td>2</td>\n",
              "    </tr>\n",
              "  </tbody>\n",
              "</table>\n",
              "<p>5 rows × 27 columns</p>\n",
              "</div>"
            ],
            "text/plain": [
              "   Age Attrition     BusinessTravel              Department  DistanceFromHome  \\\n",
              "0   41       Yes      Travel_Rarely                   Sales                 1   \n",
              "1   49        No  Travel_Frequently  Research & Development                 8   \n",
              "2   37       Yes      Travel_Rarely  Research & Development                 2   \n",
              "3   33        No  Travel_Frequently  Research & Development                 3   \n",
              "4   27        No      Travel_Rarely  Research & Development                 2   \n",
              "\n",
              "   Education EducationField  EnvironmentSatisfaction  HourlyRate  \\\n",
              "0          2  Life Sciences                        2          94   \n",
              "1          1  Life Sciences                        3          61   \n",
              "2          2          Other                        4          92   \n",
              "3          4  Life Sciences                        4          56   \n",
              "4          1        Medical                        1          40   \n",
              "\n",
              "   JobInvolvement  ...  PerformanceRating RelationshipSatisfaction  \\\n",
              "0               3  ...                  3                        1   \n",
              "1               2  ...                  4                        4   \n",
              "2               2  ...                  3                        2   \n",
              "3               3  ...                  3                        3   \n",
              "4               3  ...                  3                        4   \n",
              "\n",
              "   StockOptionLevel TotalWorkingYears  TrainingTimesLastYear WorkLifeBalance  \\\n",
              "0                 0                 8                      0               1   \n",
              "1                 1                10                      3               3   \n",
              "2                 0                 7                      3               3   \n",
              "3                 0                 8                      3               3   \n",
              "4                 1                 6                      3               3   \n",
              "\n",
              "   YearsAtCompany  YearsInCurrentRole  YearsSinceLastPromotion  \\\n",
              "0               6                   4                        0   \n",
              "1              10                   7                        1   \n",
              "2               0                   0                        0   \n",
              "3               8                   7                        3   \n",
              "4               2                   2                        2   \n",
              "\n",
              "   YearsWithCurrManager  \n",
              "0                     5  \n",
              "1                     7  \n",
              "2                     0  \n",
              "3                     0  \n",
              "4                     2  \n",
              "\n",
              "[5 rows x 27 columns]"
            ]
          },
          "execution_count": 2,
          "metadata": {},
          "output_type": "execute_result"
        }
      ],
      "source": [
        "# Import our dependencies\n",
        "from sklearn.model_selection import train_test_split\n",
        "from sklearn.preprocessing import StandardScaler\n",
        "import pandas as pd\n",
        "import numpy as np\n",
        "from tensorflow.keras.models import Model\n",
        "from tensorflow.keras import layers\n",
        "\n",
        "#  Import and read the attrition data\n",
        "attrition_df = pd.read_csv('https://static.bc-edx.com/ai/ail-v-1-0/m19/lms/datasets/attrition.csv')\n",
        "attrition_df.head()"
      ]
    },
    {
      "cell_type": "code",
      "execution_count": 3,
      "metadata": {
        "colab": {
          "base_uri": "https://localhost:8080/"
        },
        "id": "g22aQSY4Gc3Q",
        "outputId": "1f5c13c1-b981-4e40-a7ed-dd3fe6f1b81e"
      },
      "outputs": [
        {
          "data": {
            "text/plain": [
              "Age                         43\n",
              "Attrition                    2\n",
              "BusinessTravel               3\n",
              "Department                   3\n",
              "DistanceFromHome            29\n",
              "Education                    5\n",
              "EducationField               6\n",
              "EnvironmentSatisfaction      4\n",
              "HourlyRate                  71\n",
              "JobInvolvement               4\n",
              "JobLevel                     5\n",
              "JobRole                      9\n",
              "JobSatisfaction              4\n",
              "MaritalStatus                3\n",
              "NumCompaniesWorked          10\n",
              "OverTime                     2\n",
              "PercentSalaryHike           15\n",
              "PerformanceRating            2\n",
              "RelationshipSatisfaction     4\n",
              "StockOptionLevel             4\n",
              "TotalWorkingYears           40\n",
              "TrainingTimesLastYear        7\n",
              "WorkLifeBalance              4\n",
              "YearsAtCompany              37\n",
              "YearsInCurrentRole          19\n",
              "YearsSinceLastPromotion     16\n",
              "YearsWithCurrManager        18\n",
              "dtype: int64"
            ]
          },
          "execution_count": 3,
          "metadata": {},
          "output_type": "execute_result"
        }
      ],
      "source": [
        "# Determine the number of unique values in each column.\n",
        "attrition_df.nunique()"
      ]
    },
    {
      "cell_type": "code",
      "execution_count": 4,
      "metadata": {
        "id": "50vMgBEnJbfM"
      },
      "outputs": [
        {
          "name": "stdout",
          "output_type": "stream",
          "text": [
            "Attrition     object\n",
            "Department    object\n",
            "dtype: object\n"
          ]
        }
      ],
      "source": [
        "# Create y_df with the Attrition and Department columns\n",
        "y_df = attrition_df[['Attrition','Department']]\n",
        "print(y_df.dtypes)\n"
      ]
    },
    {
      "cell_type": "code",
      "execution_count": 5,
      "metadata": {
        "colab": {
          "base_uri": "https://localhost:8080/"
        },
        "id": "Virka0zLGc3R",
        "outputId": "dd5aee3a-9458-4ba6-e857-1b234de40915"
      },
      "outputs": [
        {
          "name": "stdout",
          "output_type": "stream",
          "text": [
            "Education                  int64\n",
            "Age                        int64\n",
            "DistanceFromHome           int64\n",
            "JobSatisfaction            int64\n",
            "StockOptionLevel           int64\n",
            "WorkLifeBalance            int64\n",
            "YearsAtCompany             int64\n",
            "YearsSinceLastPromotion    int64\n",
            "NumCompaniesWorked         int64\n",
            "OverTime_No                int32\n",
            "OverTime_Yes               int32\n",
            "dtype: object\n"
          ]
        }
      ],
      "source": [
        "# Create a list of at least 10 column names to use as X data\n",
        "selected_columns = ['Education','Age', 'DistanceFromHome','JobSatisfaction', 'OverTime', 'StockOptionLevel', 'WorkLifeBalance', 'YearsAtCompany', 'YearsSinceLastPromotion', 'NumCompaniesWorked']\n",
        "\n",
        "# Create X_df using your selected columns\n",
        "X_df = attrition_df[selected_columns]\n",
        "X_df = pd.get_dummies(X_df, columns=['OverTime'], dtype=int)\n",
        "\n",
        "# Show the data types for X_df\n",
        "print(X_df.dtypes)\n"
      ]
    },
    {
      "cell_type": "code",
      "execution_count": 6,
      "metadata": {
        "id": "KaJfdOGUMHMR"
      },
      "outputs": [],
      "source": [
        "# Split the data into training and testing sets \n",
        "from sklearn.model_selection import train_test_split\n",
        "X_train, X_test, y_train, y_test = train_test_split(X_df, y_df, random_state=78)"
      ]
    },
    {
      "cell_type": "code",
      "execution_count": 7,
      "metadata": {
        "colab": {
          "base_uri": "https://localhost:8080/"
        },
        "id": "NYubUJqiLCSp",
        "outputId": "53f31721-571c-4c94-d13e-25a715749593"
      },
      "outputs": [
        {
          "name": "stdout",
          "output_type": "stream",
          "text": [
            "(1102, 11) (368, 11) (1102, 2) (368, 2)\n"
          ]
        }
      ],
      "source": [
        "# Convert your X data to numeric data types however you see fit\n",
        "# Add new code cells as necessary\n",
        "X_train = X_train.astype('int64')\n",
        "X_test = X_test.astype('int64')\n",
        "\n",
        "print(X_train.shape, X_test.shape, y_train.shape, y_test.shape)\n"
      ]
    },
    {
      "cell_type": "code",
      "execution_count": 8,
      "metadata": {
        "id": "EWA-aIA5Gc3T"
      },
      "outputs": [],
      "source": [
        "# Create a StandardScaler\n",
        "from sklearn.preprocessing import StandardScaler\n",
        "scaler = StandardScaler()\n",
        "\n",
        "# Fit the StandardScaler to the training data\n",
        "X_scaler = scaler.fit(X_train)\n",
        "\n",
        "\n",
        "# Scale the training and testing data\n",
        "X_train_scaled = X_scaler.transform(X_train)\n",
        "X_test_scaled = X_scaler.transform(X_test)"
      ]
    },
    {
      "cell_type": "code",
      "execution_count": 9,
      "metadata": {
        "colab": {
          "base_uri": "https://localhost:8080/"
        },
        "id": "-z0Mky8vQSz4",
        "outputId": "debefc85-c20b-48f5-f4d9-91eadd65d36a"
      },
      "outputs": [
        {
          "data": {
            "text/plain": [
              "array([[0., 0., 1.],\n",
              "       [0., 1., 0.],\n",
              "       [0., 0., 1.],\n",
              "       ...,\n",
              "       [0., 1., 0.],\n",
              "       [0., 0., 1.],\n",
              "       [0., 1., 0.]])"
            ]
          },
          "execution_count": 9,
          "metadata": {},
          "output_type": "execute_result"
        }
      ],
      "source": [
        "# Create a OneHotEncoder for the Department column\n",
        "from sklearn.preprocessing import OneHotEncoder\n",
        "enc_Department = OneHotEncoder(sparse_output=False)\n",
        "\n",
        "\n",
        "# Fit the encoder to the training data\n",
        "enc_Department.fit(y_train['Department'].values.reshape(-1,1))\n",
        "\n",
        "# Create two new variables by applying the encoder\n",
        "# to the training and testing data\n",
        "encoded_train_Department = enc_Department.transform(y_train['Department'].values.reshape(-1,1))\n",
        "encoded_test_Department = enc_Department.transform(y_test['Department'].values.reshape(-1,1))\n",
        "\n",
        "encoded_train_Department[:]"
      ]
    },
    {
      "cell_type": "code",
      "execution_count": 10,
      "metadata": {
        "colab": {
          "base_uri": "https://localhost:8080/"
        },
        "id": "-G4DSpvFRrk4",
        "outputId": "9842e948-8a55-4b80-8fac-f96714e85589"
      },
      "outputs": [
        {
          "data": {
            "text/plain": [
              "array([[0., 1.],\n",
              "       [1., 0.],\n",
              "       [0., 1.],\n",
              "       ...,\n",
              "       [1., 0.],\n",
              "       [1., 0.],\n",
              "       [0., 1.]])"
            ]
          },
          "execution_count": 10,
          "metadata": {},
          "output_type": "execute_result"
        }
      ],
      "source": [
        "# Create a OneHotEncoder for the Attrition column\n",
        "from sklearn.preprocessing import OneHotEncoder\n",
        "enc_Attrition = OneHotEncoder(sparse_output=False)\n",
        "\n",
        "\n",
        "# Fit the encoder to the training data\n",
        "enc_Attrition.fit(y_train['Attrition'].values.reshape(-1,1))\n",
        "\n",
        "# Create two new variables by applying the encoder\n",
        "# to the training and testing data\n",
        "encoded_train_Attrition = enc_Attrition.transform(y_train['Attrition'].values.reshape(-1,1))\n",
        "encoded_test_Attrition = enc_Attrition.transform(y_test['Attrition'].values.reshape(-1,1))\n",
        "\n",
        "encoded_train_Attrition[:]\n",
        "\n"
      ]
    },
    {
      "cell_type": "markdown",
      "metadata": {
        "id": "ykNmu_WWGc3T"
      },
      "source": [
        "## Create, Compile, and Train the Model"
      ]
    },
    {
      "cell_type": "code",
      "execution_count": 11,
      "metadata": {
        "id": "WUptZqmSGc3T"
      },
      "outputs": [],
      "source": [
        "# Find the number of columns in the X training data\n",
        "input_features = X_train_scaled.shape[1]\n",
        "\n",
        "# Create the input layer\n",
        "input_layer = layers.Input(shape=(input_features,))\n",
        "\n",
        "# Create at least two shared layers\n",
        "shared_layer1 = layers.Dense(64, activation='relu', name='Shared_1')(input_layer)\n",
        "shared_layer2 = layers.Dense(32128, activation='relu', name='Shared_2')(shared_layer1)\n"
      ]
    },
    {
      "cell_type": "code",
      "execution_count": 12,
      "metadata": {
        "id": "JukjTm2yTEqd"
      },
      "outputs": [],
      "source": [
        "# Create a branch for Department with a hidden layer and an output layer\n",
        "# Create the hidden layer\n",
        "branch_hidden_layer_1 = layers.Dense(32, activation='relu', name = 'hid_dept')(shared_layer2)\n",
        "\n",
        "# Create the output layer\n",
        "output_layer = layers.Dense(3, activation='softmax', name = 'out_dept')(branch_hidden_layer_1)\n"
      ]
    },
    {
      "cell_type": "code",
      "execution_count": 13,
      "metadata": {
        "id": "9OqhUiOJUBkR"
      },
      "outputs": [],
      "source": [
        "# Create a branch for Attrition with a hidden layer and an output layer\n",
        "# Create the hidden layer\n",
        "branch_hidden_layer_2 = layers.Dense(32, activation='relu', name = 'hid_attrition')(shared_layer2)\n",
        "\n",
        "# Create the output layer\n",
        "output_layer2 = layers.Dense(2, activation='sigmoid', name = 'out_attrition')(branch_hidden_layer_2)"
      ]
    },
    {
      "cell_type": "code",
      "execution_count": 14,
      "metadata": {
        "colab": {
          "base_uri": "https://localhost:8080/"
        },
        "id": "twmuejdxGc3T",
        "outputId": "25096308-b68b-42e4-e4ea-ae82e97c435a"
      },
      "outputs": [
        {
          "data": {
            "text/html": [
              "<pre style=\"white-space:pre;overflow-x:auto;line-height:normal;font-family:Menlo,'DejaVu Sans Mono',consolas,'Courier New',monospace\"><span style=\"font-weight: bold\">Model: \"functional_1\"</span>\n",
              "</pre>\n"
            ],
            "text/plain": [
              "\u001b[1mModel: \"functional_1\"\u001b[0m\n"
            ]
          },
          "metadata": {},
          "output_type": "display_data"
        },
        {
          "data": {
            "text/html": [
              "<pre style=\"white-space:pre;overflow-x:auto;line-height:normal;font-family:Menlo,'DejaVu Sans Mono',consolas,'Courier New',monospace\">┏━━━━━━━━━━━━━━━━━━━━━┳━━━━━━━━━━━━━━━━━━━┳━━━━━━━━━━━━┳━━━━━━━━━━━━━━━━━━━┓\n",
              "┃<span style=\"font-weight: bold\"> Layer (type)        </span>┃<span style=\"font-weight: bold\"> Output Shape      </span>┃<span style=\"font-weight: bold\">    Param # </span>┃<span style=\"font-weight: bold\"> Connected to      </span>┃\n",
              "┡━━━━━━━━━━━━━━━━━━━━━╇━━━━━━━━━━━━━━━━━━━╇━━━━━━━━━━━━╇━━━━━━━━━━━━━━━━━━━┩\n",
              "│ input_layer         │ (<span style=\"color: #00d7ff; text-decoration-color: #00d7ff\">None</span>, <span style=\"color: #00af00; text-decoration-color: #00af00\">11</span>)        │          <span style=\"color: #00af00; text-decoration-color: #00af00\">0</span> │ -                 │\n",
              "│ (<span style=\"color: #0087ff; text-decoration-color: #0087ff\">InputLayer</span>)        │                   │            │                   │\n",
              "├─────────────────────┼───────────────────┼────────────┼───────────────────┤\n",
              "│ Shared_1 (<span style=\"color: #0087ff; text-decoration-color: #0087ff\">Dense</span>)    │ (<span style=\"color: #00d7ff; text-decoration-color: #00d7ff\">None</span>, <span style=\"color: #00af00; text-decoration-color: #00af00\">64</span>)        │        <span style=\"color: #00af00; text-decoration-color: #00af00\">768</span> │ input_layer[<span style=\"color: #00af00; text-decoration-color: #00af00\">0</span>][<span style=\"color: #00af00; text-decoration-color: #00af00\">0</span>] │\n",
              "├─────────────────────┼───────────────────┼────────────┼───────────────────┤\n",
              "│ Shared_2 (<span style=\"color: #0087ff; text-decoration-color: #0087ff\">Dense</span>)    │ (<span style=\"color: #00d7ff; text-decoration-color: #00d7ff\">None</span>, <span style=\"color: #00af00; text-decoration-color: #00af00\">32128</span>)     │  <span style=\"color: #00af00; text-decoration-color: #00af00\">2,088,320</span> │ Shared_1[<span style=\"color: #00af00; text-decoration-color: #00af00\">0</span>][<span style=\"color: #00af00; text-decoration-color: #00af00\">0</span>]    │\n",
              "├─────────────────────┼───────────────────┼────────────┼───────────────────┤\n",
              "│ hid_dept (<span style=\"color: #0087ff; text-decoration-color: #0087ff\">Dense</span>)    │ (<span style=\"color: #00d7ff; text-decoration-color: #00d7ff\">None</span>, <span style=\"color: #00af00; text-decoration-color: #00af00\">32</span>)        │  <span style=\"color: #00af00; text-decoration-color: #00af00\">1,028,128</span> │ Shared_2[<span style=\"color: #00af00; text-decoration-color: #00af00\">0</span>][<span style=\"color: #00af00; text-decoration-color: #00af00\">0</span>]    │\n",
              "├─────────────────────┼───────────────────┼────────────┼───────────────────┤\n",
              "│ hid_attrition       │ (<span style=\"color: #00d7ff; text-decoration-color: #00d7ff\">None</span>, <span style=\"color: #00af00; text-decoration-color: #00af00\">32</span>)        │  <span style=\"color: #00af00; text-decoration-color: #00af00\">1,028,128</span> │ Shared_2[<span style=\"color: #00af00; text-decoration-color: #00af00\">0</span>][<span style=\"color: #00af00; text-decoration-color: #00af00\">0</span>]    │\n",
              "│ (<span style=\"color: #0087ff; text-decoration-color: #0087ff\">Dense</span>)             │                   │            │                   │\n",
              "├─────────────────────┼───────────────────┼────────────┼───────────────────┤\n",
              "│ out_dept (<span style=\"color: #0087ff; text-decoration-color: #0087ff\">Dense</span>)    │ (<span style=\"color: #00d7ff; text-decoration-color: #00d7ff\">None</span>, <span style=\"color: #00af00; text-decoration-color: #00af00\">3</span>)         │         <span style=\"color: #00af00; text-decoration-color: #00af00\">99</span> │ hid_dept[<span style=\"color: #00af00; text-decoration-color: #00af00\">0</span>][<span style=\"color: #00af00; text-decoration-color: #00af00\">0</span>]    │\n",
              "├─────────────────────┼───────────────────┼────────────┼───────────────────┤\n",
              "│ out_attrition       │ (<span style=\"color: #00d7ff; text-decoration-color: #00d7ff\">None</span>, <span style=\"color: #00af00; text-decoration-color: #00af00\">2</span>)         │         <span style=\"color: #00af00; text-decoration-color: #00af00\">66</span> │ hid_attrition[<span style=\"color: #00af00; text-decoration-color: #00af00\">0</span>]… │\n",
              "│ (<span style=\"color: #0087ff; text-decoration-color: #0087ff\">Dense</span>)             │                   │            │                   │\n",
              "└─────────────────────┴───────────────────┴────────────┴───────────────────┘\n",
              "</pre>\n"
            ],
            "text/plain": [
              "┏━━━━━━━━━━━━━━━━━━━━━┳━━━━━━━━━━━━━━━━━━━┳━━━━━━━━━━━━┳━━━━━━━━━━━━━━━━━━━┓\n",
              "┃\u001b[1m \u001b[0m\u001b[1mLayer (type)       \u001b[0m\u001b[1m \u001b[0m┃\u001b[1m \u001b[0m\u001b[1mOutput Shape     \u001b[0m\u001b[1m \u001b[0m┃\u001b[1m \u001b[0m\u001b[1m   Param #\u001b[0m\u001b[1m \u001b[0m┃\u001b[1m \u001b[0m\u001b[1mConnected to     \u001b[0m\u001b[1m \u001b[0m┃\n",
              "┡━━━━━━━━━━━━━━━━━━━━━╇━━━━━━━━━━━━━━━━━━━╇━━━━━━━━━━━━╇━━━━━━━━━━━━━━━━━━━┩\n",
              "│ input_layer         │ (\u001b[38;5;45mNone\u001b[0m, \u001b[38;5;34m11\u001b[0m)        │          \u001b[38;5;34m0\u001b[0m │ -                 │\n",
              "│ (\u001b[38;5;33mInputLayer\u001b[0m)        │                   │            │                   │\n",
              "├─────────────────────┼───────────────────┼────────────┼───────────────────┤\n",
              "│ Shared_1 (\u001b[38;5;33mDense\u001b[0m)    │ (\u001b[38;5;45mNone\u001b[0m, \u001b[38;5;34m64\u001b[0m)        │        \u001b[38;5;34m768\u001b[0m │ input_layer[\u001b[38;5;34m0\u001b[0m][\u001b[38;5;34m0\u001b[0m] │\n",
              "├─────────────────────┼───────────────────┼────────────┼───────────────────┤\n",
              "│ Shared_2 (\u001b[38;5;33mDense\u001b[0m)    │ (\u001b[38;5;45mNone\u001b[0m, \u001b[38;5;34m32128\u001b[0m)     │  \u001b[38;5;34m2,088,320\u001b[0m │ Shared_1[\u001b[38;5;34m0\u001b[0m][\u001b[38;5;34m0\u001b[0m]    │\n",
              "├─────────────────────┼───────────────────┼────────────┼───────────────────┤\n",
              "│ hid_dept (\u001b[38;5;33mDense\u001b[0m)    │ (\u001b[38;5;45mNone\u001b[0m, \u001b[38;5;34m32\u001b[0m)        │  \u001b[38;5;34m1,028,128\u001b[0m │ Shared_2[\u001b[38;5;34m0\u001b[0m][\u001b[38;5;34m0\u001b[0m]    │\n",
              "├─────────────────────┼───────────────────┼────────────┼───────────────────┤\n",
              "│ hid_attrition       │ (\u001b[38;5;45mNone\u001b[0m, \u001b[38;5;34m32\u001b[0m)        │  \u001b[38;5;34m1,028,128\u001b[0m │ Shared_2[\u001b[38;5;34m0\u001b[0m][\u001b[38;5;34m0\u001b[0m]    │\n",
              "│ (\u001b[38;5;33mDense\u001b[0m)             │                   │            │                   │\n",
              "├─────────────────────┼───────────────────┼────────────┼───────────────────┤\n",
              "│ out_dept (\u001b[38;5;33mDense\u001b[0m)    │ (\u001b[38;5;45mNone\u001b[0m, \u001b[38;5;34m3\u001b[0m)         │         \u001b[38;5;34m99\u001b[0m │ hid_dept[\u001b[38;5;34m0\u001b[0m][\u001b[38;5;34m0\u001b[0m]    │\n",
              "├─────────────────────┼───────────────────┼────────────┼───────────────────┤\n",
              "│ out_attrition       │ (\u001b[38;5;45mNone\u001b[0m, \u001b[38;5;34m2\u001b[0m)         │         \u001b[38;5;34m66\u001b[0m │ hid_attrition[\u001b[38;5;34m0\u001b[0m]… │\n",
              "│ (\u001b[38;5;33mDense\u001b[0m)             │                   │            │                   │\n",
              "└─────────────────────┴───────────────────┴────────────┴───────────────────┘\n"
            ]
          },
          "metadata": {},
          "output_type": "display_data"
        },
        {
          "data": {
            "text/html": [
              "<pre style=\"white-space:pre;overflow-x:auto;line-height:normal;font-family:Menlo,'DejaVu Sans Mono',consolas,'Courier New',monospace\"><span style=\"font-weight: bold\"> Total params: </span><span style=\"color: #00af00; text-decoration-color: #00af00\">4,145,509</span> (15.81 MB)\n",
              "</pre>\n"
            ],
            "text/plain": [
              "\u001b[1m Total params: \u001b[0m\u001b[38;5;34m4,145,509\u001b[0m (15.81 MB)\n"
            ]
          },
          "metadata": {},
          "output_type": "display_data"
        },
        {
          "data": {
            "text/html": [
              "<pre style=\"white-space:pre;overflow-x:auto;line-height:normal;font-family:Menlo,'DejaVu Sans Mono',consolas,'Courier New',monospace\"><span style=\"font-weight: bold\"> Trainable params: </span><span style=\"color: #00af00; text-decoration-color: #00af00\">4,145,509</span> (15.81 MB)\n",
              "</pre>\n"
            ],
            "text/plain": [
              "\u001b[1m Trainable params: \u001b[0m\u001b[38;5;34m4,145,509\u001b[0m (15.81 MB)\n"
            ]
          },
          "metadata": {},
          "output_type": "display_data"
        },
        {
          "data": {
            "text/html": [
              "<pre style=\"white-space:pre;overflow-x:auto;line-height:normal;font-family:Menlo,'DejaVu Sans Mono',consolas,'Courier New',monospace\"><span style=\"font-weight: bold\"> Non-trainable params: </span><span style=\"color: #00af00; text-decoration-color: #00af00\">0</span> (0.00 B)\n",
              "</pre>\n"
            ],
            "text/plain": [
              "\u001b[1m Non-trainable params: \u001b[0m\u001b[38;5;34m0\u001b[0m (0.00 B)\n"
            ]
          },
          "metadata": {},
          "output_type": "display_data"
        }
      ],
      "source": [
        "# Create the model\n",
        "model = Model(inputs=input_layer, outputs=[output_layer, output_layer2])\n",
        "\n",
        "\n",
        "# Compile the model\n",
        "model.compile(optimizer='adam',\n",
        "              loss={'out_dept': 'categorical_crossentropy', 'out_attrition': 'categorical_crossentropy'},\n",
        "              metrics={'out_dept':'accuracy', 'out_attrition':'accuracy'})\n",
        "\n",
        "# Summarize the model\n",
        "model.summary()\n"
      ]
    },
    {
      "cell_type": "code",
      "execution_count": 15,
      "metadata": {
        "colab": {
          "base_uri": "https://localhost:8080/"
        },
        "id": "c8oGy0dpGc3U",
        "outputId": "cc667d43-28cf-42d4-d719-c2bc02888d30"
      },
      "outputs": [
        {
          "name": "stdout",
          "output_type": "stream",
          "text": [
            "Epoch 1/100\n",
            "35/35 - 2s - 54ms/step - loss: 1.2700 - out_attrition_accuracy: 0.8158 - out_dept_accuracy: 0.6388\n",
            "Epoch 2/100\n",
            "35/35 - 1s - 22ms/step - loss: 1.1748 - out_attrition_accuracy: 0.8303 - out_dept_accuracy: 0.6642\n",
            "Epoch 3/100\n",
            "35/35 - 1s - 24ms/step - loss: 1.1432 - out_attrition_accuracy: 0.8494 - out_dept_accuracy: 0.6597\n",
            "Epoch 4/100\n",
            "35/35 - 1s - 24ms/step - loss: 1.0988 - out_attrition_accuracy: 0.8603 - out_dept_accuracy: 0.6633\n",
            "Epoch 5/100\n",
            "35/35 - 1s - 25ms/step - loss: 1.0935 - out_attrition_accuracy: 0.8666 - out_dept_accuracy: 0.6606\n",
            "Epoch 6/100\n",
            "35/35 - 1s - 25ms/step - loss: 1.0597 - out_attrition_accuracy: 0.8639 - out_dept_accuracy: 0.6652\n",
            "Epoch 7/100\n",
            "35/35 - 1s - 22ms/step - loss: 1.0259 - out_attrition_accuracy: 0.8711 - out_dept_accuracy: 0.6806\n",
            "Epoch 8/100\n",
            "35/35 - 1s - 25ms/step - loss: 0.9911 - out_attrition_accuracy: 0.8784 - out_dept_accuracy: 0.6851\n",
            "Epoch 9/100\n",
            "35/35 - 1s - 25ms/step - loss: 0.9515 - out_attrition_accuracy: 0.8884 - out_dept_accuracy: 0.6987\n",
            "Epoch 10/100\n",
            "35/35 - 1s - 23ms/step - loss: 0.9287 - out_attrition_accuracy: 0.8893 - out_dept_accuracy: 0.6969\n",
            "Epoch 11/100\n",
            "35/35 - 1s - 23ms/step - loss: 0.8908 - out_attrition_accuracy: 0.8993 - out_dept_accuracy: 0.7132\n",
            "Epoch 12/100\n",
            "35/35 - 1s - 22ms/step - loss: 0.8588 - out_attrition_accuracy: 0.8893 - out_dept_accuracy: 0.7269\n",
            "Epoch 13/100\n",
            "35/35 - 1s - 22ms/step - loss: 0.8324 - out_attrition_accuracy: 0.8993 - out_dept_accuracy: 0.7387\n",
            "Epoch 14/100\n",
            "35/35 - 1s - 22ms/step - loss: 0.7974 - out_attrition_accuracy: 0.9020 - out_dept_accuracy: 0.7423\n",
            "Epoch 15/100\n",
            "35/35 - 1s - 22ms/step - loss: 0.7498 - out_attrition_accuracy: 0.9120 - out_dept_accuracy: 0.7586\n",
            "Epoch 16/100\n",
            "35/35 - 1s - 22ms/step - loss: 0.7204 - out_attrition_accuracy: 0.9183 - out_dept_accuracy: 0.7577\n",
            "Epoch 17/100\n",
            "35/35 - 1s - 23ms/step - loss: 0.6769 - out_attrition_accuracy: 0.9274 - out_dept_accuracy: 0.7822\n",
            "Epoch 18/100\n",
            "35/35 - 1s - 23ms/step - loss: 0.6310 - out_attrition_accuracy: 0.9283 - out_dept_accuracy: 0.7913\n",
            "Epoch 19/100\n",
            "35/35 - 1s - 23ms/step - loss: 0.6048 - out_attrition_accuracy: 0.9338 - out_dept_accuracy: 0.8076\n",
            "Epoch 20/100\n",
            "35/35 - 1s - 28ms/step - loss: 0.5524 - out_attrition_accuracy: 0.9419 - out_dept_accuracy: 0.8158\n",
            "Epoch 21/100\n",
            "35/35 - 1s - 42ms/step - loss: 0.5151 - out_attrition_accuracy: 0.9365 - out_dept_accuracy: 0.8358\n",
            "Epoch 22/100\n",
            "35/35 - 1s - 39ms/step - loss: 0.4848 - out_attrition_accuracy: 0.9347 - out_dept_accuracy: 0.8566\n",
            "Epoch 23/100\n",
            "35/35 - 1s - 37ms/step - loss: 0.4264 - out_attrition_accuracy: 0.9510 - out_dept_accuracy: 0.8739\n",
            "Epoch 24/100\n",
            "35/35 - 1s - 37ms/step - loss: 0.3964 - out_attrition_accuracy: 0.9583 - out_dept_accuracy: 0.8748\n",
            "Epoch 25/100\n",
            "35/35 - 1s - 34ms/step - loss: 0.3536 - out_attrition_accuracy: 0.9646 - out_dept_accuracy: 0.8966\n",
            "Epoch 26/100\n",
            "35/35 - 1s - 38ms/step - loss: 0.3703 - out_attrition_accuracy: 0.9673 - out_dept_accuracy: 0.8820\n",
            "Epoch 27/100\n",
            "35/35 - 2s - 65ms/step - loss: 0.3091 - out_attrition_accuracy: 0.9710 - out_dept_accuracy: 0.9102\n",
            "Epoch 28/100\n",
            "35/35 - 1s - 31ms/step - loss: 0.2659 - out_attrition_accuracy: 0.9746 - out_dept_accuracy: 0.9220\n",
            "Epoch 29/100\n",
            "35/35 - 1s - 43ms/step - loss: 0.2487 - out_attrition_accuracy: 0.9800 - out_dept_accuracy: 0.9347\n",
            "Epoch 30/100\n",
            "35/35 - 1s - 38ms/step - loss: 0.2200 - out_attrition_accuracy: 0.9773 - out_dept_accuracy: 0.9474\n",
            "Epoch 31/100\n",
            "35/35 - 1s - 33ms/step - loss: 0.1849 - out_attrition_accuracy: 0.9746 - out_dept_accuracy: 0.9673\n",
            "Epoch 32/100\n",
            "35/35 - 1s - 31ms/step - loss: 0.1874 - out_attrition_accuracy: 0.9755 - out_dept_accuracy: 0.9537\n",
            "Epoch 33/100\n",
            "35/35 - 1s - 41ms/step - loss: 0.1646 - out_attrition_accuracy: 0.9746 - out_dept_accuracy: 0.9664\n",
            "Epoch 34/100\n",
            "35/35 - 1s - 32ms/step - loss: 0.1741 - out_attrition_accuracy: 0.9764 - out_dept_accuracy: 0.9728\n",
            "Epoch 35/100\n",
            "35/35 - 1s - 25ms/step - loss: 0.1667 - out_attrition_accuracy: 0.9719 - out_dept_accuracy: 0.9755\n",
            "Epoch 36/100\n",
            "35/35 - 1s - 22ms/step - loss: 0.1686 - out_attrition_accuracy: 0.9710 - out_dept_accuracy: 0.9755\n",
            "Epoch 37/100\n",
            "35/35 - 1s - 21ms/step - loss: 0.1451 - out_attrition_accuracy: 0.9728 - out_dept_accuracy: 0.9837\n",
            "Epoch 38/100\n",
            "35/35 - 1s - 23ms/step - loss: 0.1639 - out_attrition_accuracy: 0.9828 - out_dept_accuracy: 0.9637\n",
            "Epoch 39/100\n",
            "35/35 - 1s - 22ms/step - loss: 0.1125 - out_attrition_accuracy: 0.9864 - out_dept_accuracy: 0.9846\n",
            "Epoch 40/100\n",
            "35/35 - 1s - 21ms/step - loss: 0.1077 - out_attrition_accuracy: 0.9882 - out_dept_accuracy: 0.9800\n",
            "Epoch 41/100\n",
            "35/35 - 1s - 26ms/step - loss: 0.1003 - out_attrition_accuracy: 0.9782 - out_dept_accuracy: 0.9882\n",
            "Epoch 42/100\n",
            "35/35 - 1s - 25ms/step - loss: 0.0903 - out_attrition_accuracy: 0.9909 - out_dept_accuracy: 0.9800\n",
            "Epoch 43/100\n",
            "35/35 - 1s - 24ms/step - loss: 0.1121 - out_attrition_accuracy: 0.9873 - out_dept_accuracy: 0.9755\n",
            "Epoch 44/100\n",
            "35/35 - 1s - 25ms/step - loss: 0.0712 - out_attrition_accuracy: 0.9882 - out_dept_accuracy: 0.9900\n",
            "Epoch 45/100\n",
            "35/35 - 1s - 25ms/step - loss: 0.0686 - out_attrition_accuracy: 0.9936 - out_dept_accuracy: 0.9864\n",
            "Epoch 46/100\n",
            "35/35 - 1s - 23ms/step - loss: 0.0524 - out_attrition_accuracy: 0.9936 - out_dept_accuracy: 0.9946\n",
            "Epoch 47/100\n",
            "35/35 - 1s - 25ms/step - loss: 0.0404 - out_attrition_accuracy: 0.9936 - out_dept_accuracy: 0.9955\n",
            "Epoch 48/100\n",
            "35/35 - 1s - 24ms/step - loss: 0.0375 - out_attrition_accuracy: 0.9946 - out_dept_accuracy: 0.9964\n",
            "Epoch 49/100\n",
            "35/35 - 1s - 25ms/step - loss: 0.0274 - out_attrition_accuracy: 0.9973 - out_dept_accuracy: 0.9973\n",
            "Epoch 50/100\n",
            "35/35 - 1s - 23ms/step - loss: 0.0640 - out_attrition_accuracy: 0.9946 - out_dept_accuracy: 0.9900\n",
            "Epoch 51/100\n",
            "35/35 - 1s - 23ms/step - loss: 0.0747 - out_attrition_accuracy: 0.9900 - out_dept_accuracy: 0.9882\n",
            "Epoch 52/100\n",
            "35/35 - 1s - 22ms/step - loss: 0.0790 - out_attrition_accuracy: 0.9891 - out_dept_accuracy: 0.9891\n",
            "Epoch 53/100\n",
            "35/35 - 1s - 23ms/step - loss: 0.0769 - out_attrition_accuracy: 0.9918 - out_dept_accuracy: 0.9918\n",
            "Epoch 54/100\n",
            "35/35 - 1s - 22ms/step - loss: 0.1149 - out_attrition_accuracy: 0.9927 - out_dept_accuracy: 0.9673\n",
            "Epoch 55/100\n",
            "35/35 - 1s - 22ms/step - loss: 0.2423 - out_attrition_accuracy: 0.9936 - out_dept_accuracy: 0.9347\n",
            "Epoch 56/100\n",
            "35/35 - 1s - 22ms/step - loss: 0.2355 - out_attrition_accuracy: 0.9900 - out_dept_accuracy: 0.9347\n",
            "Epoch 57/100\n",
            "35/35 - 1s - 24ms/step - loss: 0.2145 - out_attrition_accuracy: 0.9900 - out_dept_accuracy: 0.9456\n",
            "Epoch 58/100\n",
            "35/35 - 1s - 25ms/step - loss: 0.0917 - out_attrition_accuracy: 0.9927 - out_dept_accuracy: 0.9828\n",
            "Epoch 59/100\n",
            "35/35 - 1s - 27ms/step - loss: 0.0582 - out_attrition_accuracy: 0.9964 - out_dept_accuracy: 0.9927\n",
            "Epoch 60/100\n",
            "35/35 - 1s - 25ms/step - loss: 0.0551 - out_attrition_accuracy: 0.9946 - out_dept_accuracy: 0.9900\n",
            "Epoch 61/100\n",
            "35/35 - 1s - 25ms/step - loss: 0.0576 - out_attrition_accuracy: 0.9973 - out_dept_accuracy: 0.9882\n",
            "Epoch 62/100\n",
            "35/35 - 1s - 25ms/step - loss: 0.0330 - out_attrition_accuracy: 0.9991 - out_dept_accuracy: 0.9946\n",
            "Epoch 63/100\n",
            "35/35 - 1s - 24ms/step - loss: 0.0248 - out_attrition_accuracy: 0.9973 - out_dept_accuracy: 0.9955\n",
            "Epoch 64/100\n",
            "35/35 - 1s - 25ms/step - loss: 0.0217 - out_attrition_accuracy: 0.9991 - out_dept_accuracy: 0.9955\n",
            "Epoch 65/100\n",
            "35/35 - 1s - 26ms/step - loss: 0.0156 - out_attrition_accuracy: 0.9973 - out_dept_accuracy: 0.9991\n",
            "Epoch 66/100\n",
            "35/35 - 1s - 23ms/step - loss: 0.0204 - out_attrition_accuracy: 0.9982 - out_dept_accuracy: 0.9973\n",
            "Epoch 67/100\n",
            "35/35 - 1s - 26ms/step - loss: 0.0173 - out_attrition_accuracy: 1.0000 - out_dept_accuracy: 0.9982\n",
            "Epoch 68/100\n",
            "35/35 - 1s - 25ms/step - loss: 0.0321 - out_attrition_accuracy: 0.9991 - out_dept_accuracy: 0.9946\n",
            "Epoch 69/100\n",
            "35/35 - 1s - 24ms/step - loss: 0.0183 - out_attrition_accuracy: 0.9991 - out_dept_accuracy: 0.9964\n",
            "Epoch 70/100\n",
            "35/35 - 1s - 23ms/step - loss: 0.0154 - out_attrition_accuracy: 1.0000 - out_dept_accuracy: 0.9973\n",
            "Epoch 71/100\n",
            "35/35 - 1s - 22ms/step - loss: 0.0189 - out_attrition_accuracy: 0.9973 - out_dept_accuracy: 0.9973\n",
            "Epoch 72/100\n",
            "35/35 - 1s - 24ms/step - loss: 0.0196 - out_attrition_accuracy: 0.9991 - out_dept_accuracy: 0.9973\n",
            "Epoch 73/100\n",
            "35/35 - 1s - 22ms/step - loss: 0.0498 - out_attrition_accuracy: 0.9973 - out_dept_accuracy: 0.9927\n",
            "Epoch 74/100\n",
            "35/35 - 1s - 23ms/step - loss: 0.0278 - out_attrition_accuracy: 0.9991 - out_dept_accuracy: 0.9936\n",
            "Epoch 75/100\n",
            "35/35 - 1s - 22ms/step - loss: 0.0318 - out_attrition_accuracy: 0.9982 - out_dept_accuracy: 0.9900\n",
            "Epoch 76/100\n",
            "35/35 - 1s - 22ms/step - loss: 0.0279 - out_attrition_accuracy: 0.9991 - out_dept_accuracy: 0.9909\n",
            "Epoch 77/100\n",
            "35/35 - 1s - 22ms/step - loss: 0.0153 - out_attrition_accuracy: 0.9982 - out_dept_accuracy: 0.9973\n",
            "Epoch 78/100\n",
            "35/35 - 1s - 22ms/step - loss: 0.0108 - out_attrition_accuracy: 0.9991 - out_dept_accuracy: 0.9991\n",
            "Epoch 79/100\n",
            "35/35 - 1s - 22ms/step - loss: 0.0102 - out_attrition_accuracy: 0.9982 - out_dept_accuracy: 0.9982\n",
            "Epoch 80/100\n",
            "35/35 - 1s - 22ms/step - loss: 0.0069 - out_attrition_accuracy: 1.0000 - out_dept_accuracy: 0.9991\n",
            "Epoch 81/100\n",
            "35/35 - 1s - 22ms/step - loss: 0.0065 - out_attrition_accuracy: 1.0000 - out_dept_accuracy: 0.9991\n",
            "Epoch 82/100\n",
            "35/35 - 1s - 23ms/step - loss: 0.0057 - out_attrition_accuracy: 0.9991 - out_dept_accuracy: 1.0000\n",
            "Epoch 83/100\n",
            "35/35 - 1s - 23ms/step - loss: 0.0050 - out_attrition_accuracy: 1.0000 - out_dept_accuracy: 1.0000\n",
            "Epoch 84/100\n",
            "35/35 - 1s - 23ms/step - loss: 0.0050 - out_attrition_accuracy: 0.9991 - out_dept_accuracy: 1.0000\n",
            "Epoch 85/100\n",
            "35/35 - 1s - 23ms/step - loss: 0.0050 - out_attrition_accuracy: 1.0000 - out_dept_accuracy: 1.0000\n",
            "Epoch 86/100\n",
            "35/35 - 1s - 24ms/step - loss: 0.0046 - out_attrition_accuracy: 0.9991 - out_dept_accuracy: 1.0000\n",
            "Epoch 87/100\n",
            "35/35 - 1s - 23ms/step - loss: 0.0065 - out_attrition_accuracy: 0.9991 - out_dept_accuracy: 1.0000\n",
            "Epoch 88/100\n",
            "35/35 - 1s - 23ms/step - loss: 0.0553 - out_attrition_accuracy: 0.9891 - out_dept_accuracy: 1.0000\n",
            "Epoch 89/100\n",
            "35/35 - 1s - 23ms/step - loss: 0.0515 - out_attrition_accuracy: 0.9882 - out_dept_accuracy: 1.0000\n",
            "Epoch 90/100\n",
            "35/35 - 1s - 22ms/step - loss: 0.1704 - out_attrition_accuracy: 0.9619 - out_dept_accuracy: 0.9973\n",
            "Epoch 91/100\n",
            "35/35 - 1s - 22ms/step - loss: 0.1904 - out_attrition_accuracy: 0.9465 - out_dept_accuracy: 0.9946\n",
            "Epoch 92/100\n",
            "35/35 - 1s - 21ms/step - loss: 0.1715 - out_attrition_accuracy: 0.9601 - out_dept_accuracy: 0.9819\n",
            "Epoch 93/100\n",
            "35/35 - 1s - 22ms/step - loss: 0.3055 - out_attrition_accuracy: 0.9882 - out_dept_accuracy: 0.9301\n",
            "Epoch 94/100\n",
            "35/35 - 1s - 22ms/step - loss: 0.1908 - out_attrition_accuracy: 0.9936 - out_dept_accuracy: 0.9437\n",
            "Epoch 95/100\n",
            "35/35 - 1s - 22ms/step - loss: 0.1144 - out_attrition_accuracy: 0.9991 - out_dept_accuracy: 0.9691\n",
            "Epoch 96/100\n",
            "35/35 - 1s - 21ms/step - loss: 0.0439 - out_attrition_accuracy: 0.9991 - out_dept_accuracy: 0.9909\n",
            "Epoch 97/100\n",
            "35/35 - 1s - 21ms/step - loss: 0.0381 - out_attrition_accuracy: 0.9982 - out_dept_accuracy: 0.9936\n",
            "Epoch 98/100\n",
            "35/35 - 1s - 21ms/step - loss: 0.0220 - out_attrition_accuracy: 0.9982 - out_dept_accuracy: 0.9982\n",
            "Epoch 99/100\n",
            "35/35 - 1s - 21ms/step - loss: 0.0194 - out_attrition_accuracy: 0.9991 - out_dept_accuracy: 0.9982\n",
            "Epoch 100/100\n",
            "35/35 - 1s - 23ms/step - loss: 0.0203 - out_attrition_accuracy: 0.9964 - out_dept_accuracy: 1.0000\n"
          ]
        },
        {
          "data": {
            "text/plain": [
              "<keras.src.callbacks.history.History at 0x1d8355bba00>"
            ]
          },
          "execution_count": 15,
          "metadata": {},
          "output_type": "execute_result"
        }
      ],
      "source": [
        "# Train the model\n",
        "model.fit(X_train_scaled, {'out_dept': encoded_train_Department, 'out_attrition': encoded_train_Attrition}, epochs=100, shuffle=True, verbose=2)\n"
      ]
    },
    {
      "cell_type": "code",
      "execution_count": 16,
      "metadata": {
        "colab": {
          "base_uri": "https://localhost:8080/"
        },
        "id": "VsMoaQlgGc3U",
        "outputId": "1bd4e601-e964-4abc-ad83-aeecf6b696be"
      },
      "outputs": [
        {
          "name": "stdout",
          "output_type": "stream",
          "text": [
            "12/12 - 0s - 19ms/step - loss: 5.3829 - out_attrition_accuracy: 0.8342 - out_dept_accuracy: 0.5000\n",
            "[5.382884979248047, 0.83423912525177, 0.5]\n"
          ]
        }
      ],
      "source": [
        "# Evaluate the model with the testing data\n",
        "results_test = model.evaluate(X_test_scaled, {'out_dept': encoded_test_Department, 'out_attrition': encoded_test_Attrition}, verbose=2)\n",
        "print(results_test)\n"
      ]
    },
    {
      "cell_type": "code",
      "execution_count": 17,
      "metadata": {
        "colab": {
          "base_uri": "https://localhost:8080/"
        },
        "id": "ZlCtlHi0Vt54",
        "outputId": "bc21ef3e-80c2-4b38-9c29-79515bc23dec"
      },
      "outputs": [
        {
          "name": "stdout",
          "output_type": "stream",
          "text": [
            "Department predictions Accuracy: 0.5\n",
            "Attrition predictions Accuracy: 0.83423912525177\n"
          ]
        }
      ],
      "source": [
        "# Print the accuracy for both department and attrition\n",
        "print(f\"Department predictions Accuracy: {results_test[2]}\")\n",
        "print(f\"Attrition predictions Accuracy: {results_test[1]}\")\n",
        "\n"
      ]
    },
    {
      "cell_type": "markdown",
      "metadata": {
        "id": "eGSyfsZfWOQM"
      },
      "source": [
        "# Summary\n",
        "\n",
        "In the provided space below, briefly answer the following questions.\n",
        "\n",
        "1. Is accuracy the best metric to use on this data? Why or why not?\n",
        "\n",
        "2. What activation functions did you choose for your output layers, and why?\n",
        "\n",
        "3. Can you name a few ways that this model might be improved?"
      ]
    },
    {
      "cell_type": "markdown",
      "metadata": {
        "id": "pi9SLpFnWvbF"
      },
      "source": [
        "YOUR ANSWERS HERE\n",
        "\n",
        "1. Accuracy for the Department is 52% and the Attrition accuracy is 80% which means the model can predict the department. There is much room for improvement if the number of epochs could be increased, adding more layers if network amd also tuning up the hyperparameters\n",
        "2. For the department output layer, I have used softmax function and for the attrition output layer, I have used the sigmoid function. Softmax function, per ChatGPT3.5 explanation, distributes the probabilities across multiple classes ensuring that the sum of all probabilities equals to 1. The sigmoid function on the other hand helps to maps input values within the range 0 to 1, yes/no, true/false, etc.\n",
        "3. There are multiple ways to improve the model: \n",
        "    a. increasing the number of epochs\n",
        "    b. adding additional layers to the neural network: \n",
        "    c. collecting more data or using different data points"
      ]
    },
    {
      "cell_type": "markdown",
      "metadata": {},
      "source": []
    }
  ],
  "metadata": {
    "colab": {
      "provenance": []
    },
    "kernelspec": {
      "display_name": "Python 3",
      "language": "python",
      "name": "python3"
    },
    "language_info": {
      "codemirror_mode": {
        "name": "ipython",
        "version": 3
      },
      "file_extension": ".py",
      "mimetype": "text/x-python",
      "name": "python",
      "nbconvert_exporter": "python",
      "pygments_lexer": "ipython3",
      "version": "3.10.13"
    },
    "vscode": {
      "interpreter": {
        "hash": "31f2aee4e71d21fbe5cf8b01ff0e069b9275f58929596ceb00d14d90e3e16cd6"
      }
    }
  },
  "nbformat": 4,
  "nbformat_minor": 0
}
